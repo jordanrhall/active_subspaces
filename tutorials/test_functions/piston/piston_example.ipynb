{
 "cells": [
  {
   "cell_type": "markdown",
   "metadata": {},
   "source": [
    "# Active Subspaces Example Function: Piston Cycle Time\n",
    "\n",
    "##### Ryan Howard, CO School of Mines, <ryhoward@mines.edu>\n",
    "##### Paul Constantine, CO School of Mines, <pconstan@mines.edu>\n",
    "\n",
    "<br>\n",
    "\n",
    "In this tutorial, we'll be applying active subspaces to the function\n",
    "\n",
    "$$\n",
    "C = 2\\pi\\sqrt{\\frac{M}{k+S^2\\frac{P_0V_0}{T_0}\\frac{T_a}{V^2}}},\n",
    "$$\n",
    "\n",
    "where $$\n",
    "V = \\frac{S}{2k}\\left(\\sqrt{A^2+4k\\frac{P_0V_0}{T_0}T_a}-A\\right),\\\\\n",
    "A=P_0S+19.62M-\\frac{kV_0}{S},\n",
    "$$as seen on [http://www.sfu.ca/~ssurjano/piston.html](http://www.sfu.ca/~ssurjano/piston.html). This function models the cycle time of a piston within a cylinder, and its inputs and their distributions are described in the table below.\n",
    "\n",
    "Variable|Symbol|Distribution (U(min, max))\n",
    ":-----|:-----:|:-----\n",
    "piston Weight|$M$|U(30, 60)\n",
    "piston Surface Area|$S$|U(.005, .02)\n",
    "initial Gas Volume|$V_0$|U(.002, .01)\n",
    "spring Coefficient|$k$|U(1000, 5000)\n",
    "atmospheric Pressure|$P_0$|U(90000, 110000)\n",
    "ambient Temperature|$T_a$|U(290, 296)\n",
    "filling Gas Temperature|$T_0$|U(340, 360)"
   ]
  },
  {
   "cell_type": "code",
   "execution_count": null,
   "metadata": {
    "collapsed": false
   },
   "outputs": [],
   "source": [
    "import active_subspaces as ac\n",
    "import numpy as np\n",
    "%matplotlib inline\n",
    "\n",
    "# The piston_functions.py file contains two functions: the piston function (piston(xx))\n",
    "# and its gradient (piston_grad(xx)). Each takes an Mx7 matrix (M is the number of data\n",
    "# points) with rows being normalized inputs; piston returns a column vector of function\n",
    "# values at each row of the input and piston_grad returns a matrix whose ith row is the\n",
    "# gradient of piston at the ith row of xx with respect to the normalized inputs\n",
    "from piston_functions import *"
   ]
  },
  {
   "cell_type": "markdown",
   "metadata": {},
   "source": [
    "First we draw M samples randomly from the input space."
   ]
  },
  {
   "cell_type": "code",
   "execution_count": null,
   "metadata": {
    "collapsed": false
   },
   "outputs": [],
   "source": [
    "M = 1000 #This is the number of data points to use\n",
    "\n",
    "#Sample the input space according to the distributions in the table above\n",
    "M0 = np.random.uniform(30, 60, (M, 1))\n",
    "S = np.random.uniform(.005, .02, (M, 1))\n",
    "V0 = np.random.uniform(.002, .01, (M, 1))\n",
    "k = np.random.uniform(1000, 5000, (M, 1))\n",
    "P0 = np.random.uniform(90000, 110000, (M, 1))\n",
    "Ta = np.random.uniform(290, 296, (M, 1))\n",
    "T0 = np.random.uniform(340, 360, (M, 1))\n",
    "\n",
    "#the input matrix\n",
    "x = np.hstack((M0, S, V0, k, P0, Ta, T0))"
   ]
  },
  {
   "cell_type": "markdown",
   "metadata": {},
   "source": [
    "Now we normalize the inputs, linearly scaling each to the interval $[-1, 1]$."
   ]
  },
  {
   "cell_type": "code",
   "execution_count": null,
   "metadata": {
    "collapsed": false
   },
   "outputs": [],
   "source": [
    "#Upper and lower limits for inputs\n",
    "xl = np.array([30, .005, .002, 1000, 90000, 290, 340])\n",
    "xu = np.array([60, .02, .01, 5000, 110000, 296, 360])\n",
    "\n",
    "#XX = normalized input matrix\n",
    "XX = ac.utils.misc.BoundedNormalizer(xl, xu).normalize(x)"
   ]
  },
  {
   "cell_type": "markdown",
   "metadata": {},
   "source": [
    "Compute gradients to approximate the matrix on which the active subspace is based."
   ]
  },
  {
   "cell_type": "code",
   "execution_count": null,
   "metadata": {
    "collapsed": true
   },
   "outputs": [],
   "source": [
    "#output values (f) and gradients (df)\n",
    "f = piston(XX)\n",
    "df = piston_grad(XX)"
   ]
  },
  {
   "cell_type": "markdown",
   "metadata": {},
   "source": [
    "Now we use our data to compute the active subspace."
   ]
  },
  {
   "cell_type": "code",
   "execution_count": null,
   "metadata": {
    "collapsed": false
   },
   "outputs": [],
   "source": [
    "#Set up our subspace using the gradient samples\n",
    "ss = ac.subspaces.Subspaces()\n",
    "ss.compute(df=df, nboot=500)"
   ]
  },
  {
   "cell_type": "markdown",
   "metadata": {},
   "source": [
    "We use plotting utilities to plot eigenvalues, subspace error, components of the first 2 eigenvectors, and 1D and 2D sufficient summary plots (plots of function values vs. active variable values)."
   ]
  },
  {
   "cell_type": "code",
   "execution_count": null,
   "metadata": {
    "collapsed": false
   },
   "outputs": [],
   "source": [
    "#Component labels\n",
    "in_labels = ['M', 'S', 'V0', 'k', 'P0', 'Ta', 'T0']\n",
    "\n",
    "#plot eigenvalues, subspace errors\n",
    "ac.utils.plotters.eigenvalues(ss.eigenvals, ss.e_br)\n",
    "ac.utils.plotters.subspace_errors(ss.sub_br)\n",
    "\n",
    "#manually make the subspace 2D for the eigenvector and 2D summary plots\n",
    "ss.partition(2)\n",
    "#Compute the active variable values\n",
    "y = XX.dot(ss.W1)\n",
    "\n",
    "#Plot eigenvectors, sufficient summaries\n",
    "ac.utils.plotters.eigenvectors(ss.W1, in_labels=in_labels)\n",
    "ac.utils.plotters.sufficient_summary(y, f)"
   ]
  }
 ],
 "metadata": {
  "kernelspec": {
   "display_name": "Python 3",
   "language": "python",
   "name": "python3"
  },
  "language_info": {
   "codemirror_mode": {
    "name": "ipython",
    "version": 2
   },
   "file_extension": ".py",
   "mimetype": "text/x-python",
   "name": "python",
   "nbconvert_exporter": "python",
   "pygments_lexer": "ipython2",
   "version": "2.7.15"
  }
 },
 "nbformat": 4,
 "nbformat_minor": 2
}
